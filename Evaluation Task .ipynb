{
 "cells": [
  {
   "cell_type": "code",
   "execution_count": 14,
   "id": "004bc085",
   "metadata": {},
   "outputs": [],
   "source": [
    "import cv2\n",
    "import json\n",
    "import random\n",
    "import os\n",
    "from PIL import Image, ImageEnhance, ImageOps\n",
    "import numpy as np\n",
    "#from pycocotools import mask as mask"
   ]
  },
  {
   "cell_type": "code",
   "execution_count": 15,
   "id": "4325b228",
   "metadata": {
    "scrolled": true
   },
   "outputs": [
    {
     "name": "stdout",
     "output_type": "stream",
     "text": [
      "{'_via_settings': {'ui': {'annotation_editor_height': 25, 'annotation_editor_fontsize': 0.8, 'leftsidebar_width': 18, 'image_grid': {'img_height': 80, 'rshape_fill': 'none', 'rshape_fill_opacity': 0.3, 'rshape_stroke': 'yellow', 'rshape_stroke_width': 2, 'show_region_shape': True, 'show_image_policy': 'all'}, 'image': {'region_label': 'class', 'region_color': '__via_default_region_color__', 'region_label_font': '10px Sans', 'on_image_annotation_editor_placement': 'NEAR_REGION'}}, 'core': {'buffer_size': 18, 'filepath': {}, 'default_filepath': ''}, 'project': {'name': 'via_project_18Oct2022_11h49m'}}, '_via_img_metadata': {'1.jpeg45602': {'filename': '1.jpeg', 'size': 45602, 'regions': [{'shape_attributes': {'name': 'rect', 'x': 284, 'y': 27, 'width': 365, 'height': 478}, 'region_attributes': {'class': {'dog': True}}}], 'file_attributes': {}}, '2.jpeg4669': {'filename': '2.jpeg', 'size': 4669, 'regions': [{'shape_attributes': {'name': 'rect', 'x': 6, 'y': 39, 'width': 150, 'height': 107}, 'region_attributes': {'class': {'dog': True}}}, {'shape_attributes': {'name': 'rect', 'x': 160, 'y': 77, 'width': 99, 'height': 65}, 'region_attributes': {'class': {'cat': True}}}], 'file_attributes': {}}, '3.jpeg6828': {'filename': '3.jpeg', 'size': 6828, 'regions': [{'shape_attributes': {'name': 'rect', 'x': 57, 'y': 3, 'width': 186, 'height': 141}, 'region_attributes': {'class': {'cat': True}}}], 'file_attributes': {}}, '4.jpeg198685': {'filename': '4.jpeg', 'size': 198685, 'regions': [{'shape_attributes': {'name': 'rect', 'x': 85, 'y': 307, 'width': 830, 'height': 1442}, 'region_attributes': {'class': {'cat': True}}}], 'file_attributes': {}}, '5.jpeg54509': {'filename': '5.jpeg', 'size': 54509, 'regions': [{'shape_attributes': {'name': 'rect', 'x': 33, 'y': 65, 'width': 735, 'height': 738}, 'region_attributes': {'class': {'dog': True}}}], 'file_attributes': {}}, '6.jpeg60092': {'filename': '6.jpeg', 'size': 60092, 'regions': [{'shape_attributes': {'name': 'rect', 'x': 89, 'y': 55, 'width': 140, 'height': 190}, 'region_attributes': {'class': {'dog': True}}}, {'shape_attributes': {'name': 'rect', 'x': 242, 'y': 142, 'width': 167, 'height': 115}, 'region_attributes': {'class': {'cat': True}}}], 'file_attributes': {}}, '7.jpeg394361': {'filename': '7.jpeg', 'size': 394361, 'regions': [{'shape_attributes': {'name': 'rect', 'x': 612, 'y': 192, 'width': 269, 'height': 234}, 'region_attributes': {'class': {'dog': True}}}, {'shape_attributes': {'name': 'rect', 'x': 321, 'y': 252, 'width': 267, 'height': 162}, 'region_attributes': {'class': {'cat': True}}}], 'file_attributes': {}}}, '_via_attributes': {'region': {'class': {'type': 'checkbox', 'description': '', 'options': {'\"\"': '', 'cat': '', 'dog': ''}, 'default_options': {}}}, 'file': {}}}\n"
     ]
    }
   ],
   "source": [
    "with open('cat_dog/cat_dog_annotations.json', 'r') as f:\n",
    "    annotations = json.load(f)\n",
    "    print(annotations)"
   ]
  },
  {
   "cell_type": "code",
   "execution_count": 16,
   "id": "1cab2e4f",
   "metadata": {},
   "outputs": [
    {
     "data": {
      "text/plain": [
       "dict_keys(['_via_settings', '_via_img_metadata', '_via_attributes'])"
      ]
     },
     "execution_count": 16,
     "metadata": {},
     "output_type": "execute_result"
    }
   ],
   "source": [
    "annotations.keys()"
   ]
  },
  {
   "cell_type": "code",
   "execution_count": 17,
   "id": "c0307112",
   "metadata": {},
   "outputs": [],
   "source": [
    "def rotate_bbox(bbox, img_width, img_height, angle):\n",
    "    radians = angle * np.pi / 180.0\n",
    "    cos = np.cos(radians)\n",
    "    sin = np.sin(radians)\n",
    "\n",
    "    x1, y1, x2, y2 = bbox\n",
    "\n",
    "    #translate box center origin\n",
    "    x1 -= img_width / 2\n",
    "    y1 -= img_height / 2\n",
    "    x2 -= img_width / 2\n",
    "    y2 -= img_height /2\n",
    "\n",
    "    #rotate box coordinates\n",
    "    x1r = x1 * cos - y1 * sin\n",
    "    y1r = x1 * sin + y1 * cos\n",
    "    x2r = x2 * cos - y2 * sin\n",
    "    y2r = x2 * sin + y2 * cos\n",
    "\n",
    "    #translate box center back to original position\n",
    "    x1r += img_width / 2\n",
    "    y1r += img_height / 2\n",
    "    x2r += img_width / 2\n",
    "    y2r += img_height / 2\n",
    "\n",
    "    return [int(x1r), int(y1r), int(x2r), int(y2r)]\n"
   ]
  },
  {
   "cell_type": "code",
   "execution_count": 18,
   "id": "eab3093a",
   "metadata": {
    "scrolled": false
   },
   "outputs": [],
   "source": [
    "input_dir = 'cat_dog'\n",
    "output_dir = 'output images'\n",
    "if not os.path.exists(output_dir):\n",
    "    os.makedirs(output_dir)\n",
    "count = 0\n",
    "\n",
    "# load annotations\n",
    "with open('cat_dog/cat_dog_annotations.json', 'r') as f:\n",
    "    annotations = json.load(f)\n",
    "\n",
    "# loop through images\n",
    "for img_id, img_info in annotations['_via_img_metadata'].items():\n",
    "    img_path = os.path.join(input_dir, img_info['filename'])\n",
    "    img = cv2.imread(img_path)\n",
    "\n",
    "    if img is None:\n",
    "        print(f'Error reading image {img_path}')\n",
    "        continue\n",
    "\n",
    "    bbox_list = []\n",
    "    for region in img_info['regions']:\n",
    "        x = region['shape_attributes']['x']\n",
    "        y = region['shape_attributes']['y']\n",
    "        w = region['shape_attributes']['width']\n",
    "        h = region['shape_attributes']['height']\n",
    "        bbox_list.append([x, y, x+w, y+h])\n",
    "\n",
    "    # apply resize and brightness enhancement\n",
    "    resize_scale = random.uniform(0.6, 1.0)\n",
    "    factor = random.uniform(0.5, 1.5)\n",
    "\n",
    "    h, w = img.shape[:2]\n",
    "    new_h = int(h * resize_scale)\n",
    "    new_w = int(w * resize_scale)\n",
    "    img_resized = cv2.resize(img, (new_w, new_h), interpolation=cv2.INTER_LINEAR)\n",
    "\n",
    "    img_pil = Image.fromarray(np.uint8(img_resized))\n",
    "    enhancer = ImageEnhance.Brightness(img_pil)\n",
    "    img_pil = enhancer.enhance(factor)\n",
    "    img_resized = cv2.cvtColor(np.array(img_pil), cv2.COLOR_RGB2BGR)\n",
    "\n",
    "    # loop through angles and rotate images\n",
    "    for angle in range(0, 360, 5):\n",
    "        rows, cols = img_resized.shape[:2]\n",
    "        M = cv2.getRotationMatrix2D((cols/2, rows/2), angle, 1)\n",
    "        img_rotated = cv2.warpAffine(img_resized, M, (cols, rows))\n",
    "        rotated_bbox = [rotate_bbox(bbox, img_resized.shape[1], img_resized.shape[0], angle) for bbox in bbox_list]\n",
    "\n",
    "\n",
    "        # save rotated image and annotation\n",
    "        filename = f'{count}.jpg'\n",
    "        output_path = os.path.join(output_dir, filename)\n",
    "        cv2.imwrite(output_path, img_rotated)\n",
    "\n",
    "        rotated_annotations = {\n",
    "            '_via_img_metadata': {\n",
    "                filename: {\n",
    "                    'filename': filename,\n",
    "                    'regions': [],\n",
    "                    'size': img_rotated.shape[:2]\n",
    "                }\n",
    "            }\n",
    "        }\n",
    "\n",
    "        for bbox in rotated_bbox:\n",
    "            x1, y1, x2, y2 = bbox\n",
    "            rotated_annotations['_via_img_metadata'][filename]['regions'].append({\n",
    "                'shape_attributes': {\n",
    "                    'name': 'rect',\n",
    "                    'x': x1,\n",
    "                    'y': y1,\n",
    "                    'width': x2 - x1,\n",
    "                    'height': y2 - y1\n",
    "                },\n",
    "                'region_attributes': {}\n",
    "            })                        \n",
    "                        \n",
    "\n",
    "\n"
   ]
  },
  {
   "cell_type": "code",
   "execution_count": null,
   "id": "1503a97a",
   "metadata": {
    "scrolled": true
   },
   "outputs": [],
   "source": [
    "# input_dir = 'cat_dog'\n",
    "# output_dir = 'output images'\n",
    "# if not os.path.exists(output_dir):\n",
    "#     os.makedirs(output_dir)\n",
    "# count = 0\n",
    "\n",
    "# for img_id, img_info in annotations['_via_img_metadata'].items():\n",
    "#     img_path = os.path.join(input_dir, img_info['filename'])\n",
    "#     img = cv2.imread(img_path)\n",
    "\n",
    "#     if img is None:\n",
    "#         print(f'Error reading image {img_path}')\n",
    "#         continue\n",
    "\n",
    "#     bbox_list = []\n",
    "#     for region in img_info['regions']:\n",
    "#         x = region['shape_attributes']['x']\n",
    "#         y = region['shape_attributes']['y']\n",
    "#         w = region['shape_attributes']['width']\n",
    "#         h = region['shape_attributes']['height']\n",
    "#         bbox_list.append([x, y, x+w, y+h])\n",
    "\n",
    "#     for angle in range(0, 360, 360//7):\n",
    "#         #rotate the image\n",
    "#         rows, cols, = img.shape[:2]\n",
    "#         M = cv2.getRotationMatrix2D((cols/2, rows/2), angle, 1)\n",
    "#         img_rotated = cv2.warpAffine(img, M, (cols, rows))\n",
    "#         rotated = [rotate_bbox(bbox, img.shape[1], img.shape[0], angle) for bbox in bbox_list]\n",
    "#         bbox_rotated = [rotate_bbox(bbox, img.shape[1], img.shape[0], angle) for bbox in bbox_list]\n",
    "\n",
    "\n",
    "\n",
    "#         resize_scale = random.uniform(0.6, 1.0)\n",
    "#         h, w = img.shape[:2]\n",
    "#         new_h = int(h * resize_scale)\n",
    "#         new_w = int(w * resize_scale)\n",
    "#         img_resized = cv2.resize(img, (new_w, new_h), interpolation=cv2.INTER_LINEAR)\n",
    "\n",
    "#         bbox_resized = []\n",
    "#         for bbox in bbox_list:\n",
    "#             xmin, ymin, xmax, ymax = bbox\n",
    "#             xmin_resize = int(xmin * resize_scale)\n",
    "#             ymin_resize = int(ymin * resize_scale)\n",
    "#             xmax_resize = int(xmax * resize_scale)\n",
    "#             ymax_resize = int(ymax * resize_scale)\n",
    "#             bbox_resized.append([xmin_resize, ymin_resize, xmax_resize, ymax_resize])\n",
    "\n",
    "\n",
    "#         for bbox in bbox_resized:\n",
    "#             xmin, ymin, xmax, ymax = bbox\n",
    "#             cv2.rectangle(img_resized, (xmin, ymin), (xmax, ymax), (0, 255, 0), 2)\n",
    "            \n",
    "#         img_pil = Image.fromarray(np.uint8(img_resized))\n",
    "#         factor = random.uniform(0.5, 1.5)\n",
    "#         enhancer = ImageEnhance.Brightness(img_pil)\n",
    "#         img_pil = enhancer.enhance(factor)\n",
    "#         img_resized = cv2.cvtColor(np.array(img_pil), cv2.COLOR_RGB2BGR)\n",
    "        \n",
    "#         output_path = os.path.join(output_dir, f\"{img_id}_{angle}.jpg\")\n",
    "#         cv2.imwrite(output_path, img_resized)\n",
    "#         if os.path.exists(output_path):\n",
    "#             print(f\"Image saved to {output_path}\")\n",
    "#         else:\n",
    "#             print(f\"Error saving image to {output_path}\")\n",
    "\n",
    "#         count += 1\n",
    "#         if count >= 504:\n",
    "#             break"
   ]
  },
  {
   "cell_type": "code",
   "execution_count": null,
   "id": "a7690d75",
   "metadata": {},
   "outputs": [],
   "source": []
  },
  {
   "cell_type": "code",
   "execution_count": null,
   "id": "0632c2b2",
   "metadata": {},
   "outputs": [],
   "source": []
  }
 ],
 "metadata": {
  "kernelspec": {
   "display_name": "Python 3 (ipykernel)",
   "language": "python",
   "name": "python3"
  },
  "language_info": {
   "codemirror_mode": {
    "name": "ipython",
    "version": 3
   },
   "file_extension": ".py",
   "mimetype": "text/x-python",
   "name": "python",
   "nbconvert_exporter": "python",
   "pygments_lexer": "ipython3",
   "version": "3.9.13"
  }
 },
 "nbformat": 4,
 "nbformat_minor": 5
}
